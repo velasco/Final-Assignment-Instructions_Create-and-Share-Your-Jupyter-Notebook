{
 "cells": [
  {
   "cell_type": "markdown",
   "id": "b42d639e-565b-4b41-b81f-39b2f9f1121c",
   "metadata": {},
   "source": [
    "# Data Science Tools and Ecosystem"
   ]
  },
  {
   "cell_type": "markdown",
   "id": "1bff476f-404d-46e7-addb-148aa7d4f5e4",
   "metadata": {},
   "source": [
    "In this notebook, Data Science Tools and Ecosystem are summarized."
   ]
  },
  {
   "cell_type": "markdown",
   "id": "223b1da4-872c-4821-91eb-1a5d753cbc41",
   "metadata": {},
   "source": [
    "Some of the popular languages that Data Scientists use are:\n",
    "- Python\n",
    "- R\n",
    "- SQL"
   ]
  },
  {
   "cell_type": "markdown",
   "id": "b233e018-3150-4a7b-96df-9768194bab26",
   "metadata": {},
   "source": [
    "Some of the commonly used libraries used by Data Scientists include:\n",
    "- Pandas\n",
    "- NumPy\n",
    "- Matplotlib"
   ]
  },
  {
   "cell_type": "markdown",
   "id": "350940f8-2a9c-4e6a-a477-741f873e70cb",
   "metadata": {},
   "source": [
    "| Data Science Tools   |\n",
    "|----------------------|\n",
    "| Jupyter Notebook     |\n",
    "| Visual Studio Code   |\n",
    "| RStudio              |"
   ]
  },
  {
   "cell_type": "markdown",
   "id": "21e8041d-6f0f-4b5d-b2ba-70c0e1a31605",
   "metadata": {},
   "source": [
    "### Below are a few examples of evaluating arithmetic expressions in Python"
   ]
  },
  {
   "cell_type": "markdown",
   "id": "47c871e5-7664-4cb4-8758-8ceb90cc097a",
   "metadata": {},
   "source": [
    "This a simple arithmetic expression to mutiply then add integers"
   ]
  },
  {
   "cell_type": "code",
   "execution_count": 5,
   "id": "0e0524ac-f383-4919-b3ff-4a41d24a898d",
   "metadata": {},
   "outputs": [
    {
     "data": {
      "text/plain": [
       "17"
      ]
     },
     "execution_count": 5,
     "metadata": {},
     "output_type": "execute_result"
    }
   ],
   "source": [
    "(3*4)+5"
   ]
  },
  {
   "cell_type": "markdown",
   "id": "c270bc6d-d233-4bc2-9bcd-735922622152",
   "metadata": {},
   "source": [
    "This will convert 200 minutes to hours by diving by 60"
   ]
  },
  {
   "cell_type": "code",
   "execution_count": 7,
   "id": "0a0edcbf-7499-4856-9264-92f6c03b5e06",
   "metadata": {},
   "outputs": [
    {
     "data": {
      "text/plain": [
       "33.333333333333336"
      ]
     },
     "execution_count": 7,
     "metadata": {},
     "output_type": "execute_result"
    }
   ],
   "source": [
    "200/6"
   ]
  },
  {
   "cell_type": "markdown",
   "id": "7b26f2d9-7c68-4323-9132-b26ed6b7eb9e",
   "metadata": {},
   "source": [
    "**Objectives:**\n",
    "- List popular libraries for data scientists.\n",
    "- Format markdown text as header.\n",
    "- Use arithmetic expressions in python."
   ]
  },
  {
   "cell_type": "markdown",
   "id": "28f1fa83-92df-41ea-ac3f-8ad59b8af684",
   "metadata": {},
   "source": [
    "## Author\n",
    "Francisco Velasco"
   ]
  },
  {
   "cell_type": "code",
   "execution_count": null,
   "id": "4bc667c5-fd89-428f-92e9-26b85f14dfcd",
   "metadata": {},
   "outputs": [],
   "source": []
  }
 ],
 "metadata": {
  "kernelspec": {
   "display_name": "Python 3 (ipykernel)",
   "language": "python",
   "name": "python3"
  },
  "language_info": {
   "codemirror_mode": {
    "name": "ipython",
    "version": 3
   },
   "file_extension": ".py",
   "mimetype": "text/x-python",
   "name": "python",
   "nbconvert_exporter": "python",
   "pygments_lexer": "ipython3",
   "version": "3.11.6"
  }
 },
 "nbformat": 4,
 "nbformat_minor": 5
}
